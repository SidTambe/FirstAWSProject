{
  "nbformat": 4,
  "nbformat_minor": 0,
  "metadata": {
    "colab": {
      "provenance": []
    },
    "kernelspec": {
      "name": "python3",
      "display_name": "Python 3"
    },
    "language_info": {
      "name": "python"
    }
  },
  "cells": [
    {
      "cell_type": "code",
      "execution_count": 1,
      "metadata": {
        "colab": {
          "base_uri": "https://localhost:8080/",
          "height": 424
        },
        "id": "GH89wX1Xkr5B",
        "outputId": "7d906356-06c6-4436-8f49-2c6f4f409973"
      },
      "outputs": [
        {
          "output_type": "stream",
          "name": "stdout",
          "text": [
            "(2567, 10)\n"
          ]
        },
        {
          "output_type": "execute_result",
          "data": {
            "text/plain": [
              "   id  gender height   religion            caste mother_tongue  \\\n",
              "0   1  female   5'4\"        NaN           others        Telugu   \n",
              "1   2    male   5'7\"       Jain       Shwetamber      Gujarati   \n",
              "2   3    male   5'7\"      Hindu          Brahmin         Hindi   \n",
              "3   4  female   5'0\"      Hindu           Thakur         Hindi   \n",
              "4   5    male   5'5\"  Christian       Born Again     Malayalam   \n",
              "5   6    male   5'5\"      Hindu          Valmiki         Hindi   \n",
              "6   7  female   5'2\"      Hindu   Rajput - Lodhi         Hindi   \n",
              "7   8    male   5'5\"      Hindu           Bhatia       Punjabi   \n",
              "8   9  female   5'5\"       Jain       Shwetamber      Gujarati   \n",
              "9  10  female   5'1\"      Hindu          Billava          Tulu   \n",
              "\n",
              "                         profession               location          country  \\\n",
              "0                               NaN                 London   United Kingdom   \n",
              "1  Doctor / Healthcare Professional            Fairfax- VA              USA   \n",
              "2         Entrepreneurs / Business               Begusarai            India   \n",
              "3                         Architect                 Mumbai            India   \n",
              "4    Sales Professional / Marketing        Sulthan Bathery            India   \n",
              "5                         Sportsman                  Delhi            India   \n",
              "6              Banking Professional                Jodhpur            India   \n",
              "7         Entrepreneurs / Business               Faridabad            India   \n",
              "8             Software Professional               Vadodara            India   \n",
              "9                   HR Professional  Bengaluru / Bangalore            India   \n",
              "\n",
              "   age_of_marriage  \n",
              "0             21.0  \n",
              "1             32.0  \n",
              "2             32.0  \n",
              "3             30.0  \n",
              "4             30.0  \n",
              "5             29.0  \n",
              "6             28.0  \n",
              "7             30.0  \n",
              "8             35.0  \n",
              "9             32.0  "
            ],
            "text/html": [
              "\n",
              "  <div id=\"df-42f0a20c-853f-4ab9-8730-eb8561abdbac\">\n",
              "    <div class=\"colab-df-container\">\n",
              "      <div>\n",
              "<style scoped>\n",
              "    .dataframe tbody tr th:only-of-type {\n",
              "        vertical-align: middle;\n",
              "    }\n",
              "\n",
              "    .dataframe tbody tr th {\n",
              "        vertical-align: top;\n",
              "    }\n",
              "\n",
              "    .dataframe thead th {\n",
              "        text-align: right;\n",
              "    }\n",
              "</style>\n",
              "<table border=\"1\" class=\"dataframe\">\n",
              "  <thead>\n",
              "    <tr style=\"text-align: right;\">\n",
              "      <th></th>\n",
              "      <th>id</th>\n",
              "      <th>gender</th>\n",
              "      <th>height</th>\n",
              "      <th>religion</th>\n",
              "      <th>caste</th>\n",
              "      <th>mother_tongue</th>\n",
              "      <th>profession</th>\n",
              "      <th>location</th>\n",
              "      <th>country</th>\n",
              "      <th>age_of_marriage</th>\n",
              "    </tr>\n",
              "  </thead>\n",
              "  <tbody>\n",
              "    <tr>\n",
              "      <th>0</th>\n",
              "      <td>1</td>\n",
              "      <td>female</td>\n",
              "      <td>5'4\"</td>\n",
              "      <td>NaN</td>\n",
              "      <td>others</td>\n",
              "      <td>Telugu</td>\n",
              "      <td>NaN</td>\n",
              "      <td>London</td>\n",
              "      <td>United Kingdom</td>\n",
              "      <td>21.0</td>\n",
              "    </tr>\n",
              "    <tr>\n",
              "      <th>1</th>\n",
              "      <td>2</td>\n",
              "      <td>male</td>\n",
              "      <td>5'7\"</td>\n",
              "      <td>Jain</td>\n",
              "      <td>Shwetamber</td>\n",
              "      <td>Gujarati</td>\n",
              "      <td>Doctor / Healthcare Professional</td>\n",
              "      <td>Fairfax- VA</td>\n",
              "      <td>USA</td>\n",
              "      <td>32.0</td>\n",
              "    </tr>\n",
              "    <tr>\n",
              "      <th>2</th>\n",
              "      <td>3</td>\n",
              "      <td>male</td>\n",
              "      <td>5'7\"</td>\n",
              "      <td>Hindu</td>\n",
              "      <td>Brahmin</td>\n",
              "      <td>Hindi</td>\n",
              "      <td>Entrepreneurs / Business</td>\n",
              "      <td>Begusarai</td>\n",
              "      <td>India</td>\n",
              "      <td>32.0</td>\n",
              "    </tr>\n",
              "    <tr>\n",
              "      <th>3</th>\n",
              "      <td>4</td>\n",
              "      <td>female</td>\n",
              "      <td>5'0\"</td>\n",
              "      <td>Hindu</td>\n",
              "      <td>Thakur</td>\n",
              "      <td>Hindi</td>\n",
              "      <td>Architect</td>\n",
              "      <td>Mumbai</td>\n",
              "      <td>India</td>\n",
              "      <td>30.0</td>\n",
              "    </tr>\n",
              "    <tr>\n",
              "      <th>4</th>\n",
              "      <td>5</td>\n",
              "      <td>male</td>\n",
              "      <td>5'5\"</td>\n",
              "      <td>Christian</td>\n",
              "      <td>Born Again</td>\n",
              "      <td>Malayalam</td>\n",
              "      <td>Sales Professional / Marketing</td>\n",
              "      <td>Sulthan Bathery</td>\n",
              "      <td>India</td>\n",
              "      <td>30.0</td>\n",
              "    </tr>\n",
              "    <tr>\n",
              "      <th>5</th>\n",
              "      <td>6</td>\n",
              "      <td>male</td>\n",
              "      <td>5'5\"</td>\n",
              "      <td>Hindu</td>\n",
              "      <td>Valmiki</td>\n",
              "      <td>Hindi</td>\n",
              "      <td>Sportsman</td>\n",
              "      <td>Delhi</td>\n",
              "      <td>India</td>\n",
              "      <td>29.0</td>\n",
              "    </tr>\n",
              "    <tr>\n",
              "      <th>6</th>\n",
              "      <td>7</td>\n",
              "      <td>female</td>\n",
              "      <td>5'2\"</td>\n",
              "      <td>Hindu</td>\n",
              "      <td>Rajput - Lodhi</td>\n",
              "      <td>Hindi</td>\n",
              "      <td>Banking Professional</td>\n",
              "      <td>Jodhpur</td>\n",
              "      <td>India</td>\n",
              "      <td>28.0</td>\n",
              "    </tr>\n",
              "    <tr>\n",
              "      <th>7</th>\n",
              "      <td>8</td>\n",
              "      <td>male</td>\n",
              "      <td>5'5\"</td>\n",
              "      <td>Hindu</td>\n",
              "      <td>Bhatia</td>\n",
              "      <td>Punjabi</td>\n",
              "      <td>Entrepreneurs / Business</td>\n",
              "      <td>Faridabad</td>\n",
              "      <td>India</td>\n",
              "      <td>30.0</td>\n",
              "    </tr>\n",
              "    <tr>\n",
              "      <th>8</th>\n",
              "      <td>9</td>\n",
              "      <td>female</td>\n",
              "      <td>5'5\"</td>\n",
              "      <td>Jain</td>\n",
              "      <td>Shwetamber</td>\n",
              "      <td>Gujarati</td>\n",
              "      <td>Software Professional</td>\n",
              "      <td>Vadodara</td>\n",
              "      <td>India</td>\n",
              "      <td>35.0</td>\n",
              "    </tr>\n",
              "    <tr>\n",
              "      <th>9</th>\n",
              "      <td>10</td>\n",
              "      <td>female</td>\n",
              "      <td>5'1\"</td>\n",
              "      <td>Hindu</td>\n",
              "      <td>Billava</td>\n",
              "      <td>Tulu</td>\n",
              "      <td>HR Professional</td>\n",
              "      <td>Bengaluru / Bangalore</td>\n",
              "      <td>India</td>\n",
              "      <td>32.0</td>\n",
              "    </tr>\n",
              "  </tbody>\n",
              "</table>\n",
              "</div>\n",
              "      <button class=\"colab-df-convert\" onclick=\"convertToInteractive('df-42f0a20c-853f-4ab9-8730-eb8561abdbac')\"\n",
              "              title=\"Convert this dataframe to an interactive table.\"\n",
              "              style=\"display:none;\">\n",
              "        \n",
              "  <svg xmlns=\"http://www.w3.org/2000/svg\" height=\"24px\"viewBox=\"0 0 24 24\"\n",
              "       width=\"24px\">\n",
              "    <path d=\"M0 0h24v24H0V0z\" fill=\"none\"/>\n",
              "    <path d=\"M18.56 5.44l.94 2.06.94-2.06 2.06-.94-2.06-.94-.94-2.06-.94 2.06-2.06.94zm-11 1L8.5 8.5l.94-2.06 2.06-.94-2.06-.94L8.5 2.5l-.94 2.06-2.06.94zm10 10l.94 2.06.94-2.06 2.06-.94-2.06-.94-.94-2.06-.94 2.06-2.06.94z\"/><path d=\"M17.41 7.96l-1.37-1.37c-.4-.4-.92-.59-1.43-.59-.52 0-1.04.2-1.43.59L10.3 9.45l-7.72 7.72c-.78.78-.78 2.05 0 2.83L4 21.41c.39.39.9.59 1.41.59.51 0 1.02-.2 1.41-.59l7.78-7.78 2.81-2.81c.8-.78.8-2.07 0-2.86zM5.41 20L4 18.59l7.72-7.72 1.47 1.35L5.41 20z\"/>\n",
              "  </svg>\n",
              "      </button>\n",
              "      \n",
              "  <style>\n",
              "    .colab-df-container {\n",
              "      display:flex;\n",
              "      flex-wrap:wrap;\n",
              "      gap: 12px;\n",
              "    }\n",
              "\n",
              "    .colab-df-convert {\n",
              "      background-color: #E8F0FE;\n",
              "      border: none;\n",
              "      border-radius: 50%;\n",
              "      cursor: pointer;\n",
              "      display: none;\n",
              "      fill: #1967D2;\n",
              "      height: 32px;\n",
              "      padding: 0 0 0 0;\n",
              "      width: 32px;\n",
              "    }\n",
              "\n",
              "    .colab-df-convert:hover {\n",
              "      background-color: #E2EBFA;\n",
              "      box-shadow: 0px 1px 2px rgba(60, 64, 67, 0.3), 0px 1px 3px 1px rgba(60, 64, 67, 0.15);\n",
              "      fill: #174EA6;\n",
              "    }\n",
              "\n",
              "    [theme=dark] .colab-df-convert {\n",
              "      background-color: #3B4455;\n",
              "      fill: #D2E3FC;\n",
              "    }\n",
              "\n",
              "    [theme=dark] .colab-df-convert:hover {\n",
              "      background-color: #434B5C;\n",
              "      box-shadow: 0px 1px 3px 1px rgba(0, 0, 0, 0.15);\n",
              "      filter: drop-shadow(0px 1px 2px rgba(0, 0, 0, 0.3));\n",
              "      fill: #FFFFFF;\n",
              "    }\n",
              "  </style>\n",
              "\n",
              "      <script>\n",
              "        const buttonEl =\n",
              "          document.querySelector('#df-42f0a20c-853f-4ab9-8730-eb8561abdbac button.colab-df-convert');\n",
              "        buttonEl.style.display =\n",
              "          google.colab.kernel.accessAllowed ? 'block' : 'none';\n",
              "\n",
              "        async function convertToInteractive(key) {\n",
              "          const element = document.querySelector('#df-42f0a20c-853f-4ab9-8730-eb8561abdbac');\n",
              "          const dataTable =\n",
              "            await google.colab.kernel.invokeFunction('convertToInteractive',\n",
              "                                                     [key], {});\n",
              "          if (!dataTable) return;\n",
              "\n",
              "          const docLinkHtml = 'Like what you see? Visit the ' +\n",
              "            '<a target=\"_blank\" href=https://colab.research.google.com/notebooks/data_table.ipynb>data table notebook</a>'\n",
              "            + ' to learn more about interactive tables.';\n",
              "          element.innerHTML = '';\n",
              "          dataTable['output_type'] = 'display_data';\n",
              "          await google.colab.output.renderOutput(dataTable, element);\n",
              "          const docLink = document.createElement('div');\n",
              "          docLink.innerHTML = docLinkHtml;\n",
              "          element.appendChild(docLink);\n",
              "        }\n",
              "      </script>\n",
              "    </div>\n",
              "  </div>\n",
              "  "
            ]
          },
          "metadata": {},
          "execution_count": 1
        }
      ],
      "source": [
        "import pandas as pd\n",
        "df=pd.read_csv('/content/marriage.csv')\n",
        "print(df.shape)\n",
        "df.head(10)"
      ]
    },
    {
      "cell_type": "code",
      "source": [
        "df.isnull().sum()"
      ],
      "metadata": {
        "colab": {
          "base_uri": "https://localhost:8080/"
        },
        "id": "YsM73631lMYT",
        "outputId": "75c1638f-00ad-4965-90ab-becccd7bc4ab"
      },
      "execution_count": 2,
      "outputs": [
        {
          "output_type": "execute_result",
          "data": {
            "text/plain": [
              "id                   0\n",
              "gender              29\n",
              "height             118\n",
              "religion           635\n",
              "caste              142\n",
              "mother_tongue      164\n",
              "profession         330\n",
              "location           155\n",
              "country             16\n",
              "age_of_marriage     19\n",
              "dtype: int64"
            ]
          },
          "metadata": {},
          "execution_count": 2
        }
      ]
    },
    {
      "cell_type": "code",
      "source": [
        "(df.shape[0] - df.dropna().shape[0])/df.shape[0]"
      ],
      "metadata": {
        "colab": {
          "base_uri": "https://localhost:8080/"
        },
        "id": "b5xdbfuAlyzg",
        "outputId": "be617931-f408-47f4-8476-ea691a0583d7"
      },
      "execution_count": 6,
      "outputs": [
        {
          "output_type": "execute_result",
          "data": {
            "text/plain": [
              "0.24737047136735488"
            ]
          },
          "metadata": {},
          "execution_count": 6
        }
      ]
    },
    {
      "cell_type": "code",
      "source": [
        "df.dropna(inplace=True)"
      ],
      "metadata": {
        "id": "M18HEABAlzgQ"
      },
      "execution_count": 8,
      "outputs": []
    },
    {
      "cell_type": "code",
      "source": [
        "df.shape"
      ],
      "metadata": {
        "colab": {
          "base_uri": "https://localhost:8080/"
        },
        "id": "iZ-qSnIXl2v-",
        "outputId": "c5bd2897-4f50-4a7c-9ca9-e113ad101b90"
      },
      "execution_count": 9,
      "outputs": [
        {
          "output_type": "execute_result",
          "data": {
            "text/plain": [
              "(1932, 10)"
            ]
          },
          "metadata": {},
          "execution_count": 9
        }
      ]
    },
    {
      "cell_type": "code",
      "source": [
        "df.head(10)"
      ],
      "metadata": {
        "colab": {
          "base_uri": "https://localhost:8080/",
          "height": 363
        },
        "id": "Mv3S4DIUmToL",
        "outputId": "81a32d33-dd1c-498e-fd16-235ba51328a9"
      },
      "execution_count": 10,
      "outputs": [
        {
          "output_type": "execute_result",
          "data": {
            "text/plain": [
              "    id  gender height   religion            caste mother_tongue  \\\n",
              "1    2    male   5'7\"       Jain       Shwetamber      Gujarati   \n",
              "2    3    male   5'7\"      Hindu          Brahmin         Hindi   \n",
              "3    4  female   5'0\"      Hindu           Thakur         Hindi   \n",
              "4    5    male   5'5\"  Christian       Born Again     Malayalam   \n",
              "5    6    male   5'5\"      Hindu          Valmiki         Hindi   \n",
              "6    7  female   5'2\"      Hindu   Rajput - Lodhi         Hindi   \n",
              "7    8    male   5'5\"      Hindu           Bhatia       Punjabi   \n",
              "8    9  female   5'5\"       Jain       Shwetamber      Gujarati   \n",
              "9   10  female   5'1\"      Hindu          Billava          Tulu   \n",
              "11  12    male   5'9\"      Hindu          Brahmin       Bengali   \n",
              "\n",
              "                          profession               location country  \\\n",
              "1   Doctor / Healthcare Professional            Fairfax- VA     USA   \n",
              "2          Entrepreneurs / Business               Begusarai   India   \n",
              "3                          Architect                 Mumbai   India   \n",
              "4     Sales Professional / Marketing        Sulthan Bathery   India   \n",
              "5                          Sportsman                  Delhi   India   \n",
              "6               Banking Professional                Jodhpur   India   \n",
              "7          Entrepreneurs / Business               Faridabad   India   \n",
              "8              Software Professional               Vadodara   India   \n",
              "9                    HR Professional  Bengaluru / Bangalore   India   \n",
              "11              Finance Professional                   Suri   India   \n",
              "\n",
              "    age_of_marriage  \n",
              "1              32.0  \n",
              "2              32.0  \n",
              "3              30.0  \n",
              "4              30.0  \n",
              "5              29.0  \n",
              "6              28.0  \n",
              "7              30.0  \n",
              "8              35.0  \n",
              "9              32.0  \n",
              "11             32.0  "
            ],
            "text/html": [
              "\n",
              "  <div id=\"df-40e936ea-c7fe-46d9-93c8-e8517f2341d2\">\n",
              "    <div class=\"colab-df-container\">\n",
              "      <div>\n",
              "<style scoped>\n",
              "    .dataframe tbody tr th:only-of-type {\n",
              "        vertical-align: middle;\n",
              "    }\n",
              "\n",
              "    .dataframe tbody tr th {\n",
              "        vertical-align: top;\n",
              "    }\n",
              "\n",
              "    .dataframe thead th {\n",
              "        text-align: right;\n",
              "    }\n",
              "</style>\n",
              "<table border=\"1\" class=\"dataframe\">\n",
              "  <thead>\n",
              "    <tr style=\"text-align: right;\">\n",
              "      <th></th>\n",
              "      <th>id</th>\n",
              "      <th>gender</th>\n",
              "      <th>height</th>\n",
              "      <th>religion</th>\n",
              "      <th>caste</th>\n",
              "      <th>mother_tongue</th>\n",
              "      <th>profession</th>\n",
              "      <th>location</th>\n",
              "      <th>country</th>\n",
              "      <th>age_of_marriage</th>\n",
              "    </tr>\n",
              "  </thead>\n",
              "  <tbody>\n",
              "    <tr>\n",
              "      <th>1</th>\n",
              "      <td>2</td>\n",
              "      <td>male</td>\n",
              "      <td>5'7\"</td>\n",
              "      <td>Jain</td>\n",
              "      <td>Shwetamber</td>\n",
              "      <td>Gujarati</td>\n",
              "      <td>Doctor / Healthcare Professional</td>\n",
              "      <td>Fairfax- VA</td>\n",
              "      <td>USA</td>\n",
              "      <td>32.0</td>\n",
              "    </tr>\n",
              "    <tr>\n",
              "      <th>2</th>\n",
              "      <td>3</td>\n",
              "      <td>male</td>\n",
              "      <td>5'7\"</td>\n",
              "      <td>Hindu</td>\n",
              "      <td>Brahmin</td>\n",
              "      <td>Hindi</td>\n",
              "      <td>Entrepreneurs / Business</td>\n",
              "      <td>Begusarai</td>\n",
              "      <td>India</td>\n",
              "      <td>32.0</td>\n",
              "    </tr>\n",
              "    <tr>\n",
              "      <th>3</th>\n",
              "      <td>4</td>\n",
              "      <td>female</td>\n",
              "      <td>5'0\"</td>\n",
              "      <td>Hindu</td>\n",
              "      <td>Thakur</td>\n",
              "      <td>Hindi</td>\n",
              "      <td>Architect</td>\n",
              "      <td>Mumbai</td>\n",
              "      <td>India</td>\n",
              "      <td>30.0</td>\n",
              "    </tr>\n",
              "    <tr>\n",
              "      <th>4</th>\n",
              "      <td>5</td>\n",
              "      <td>male</td>\n",
              "      <td>5'5\"</td>\n",
              "      <td>Christian</td>\n",
              "      <td>Born Again</td>\n",
              "      <td>Malayalam</td>\n",
              "      <td>Sales Professional / Marketing</td>\n",
              "      <td>Sulthan Bathery</td>\n",
              "      <td>India</td>\n",
              "      <td>30.0</td>\n",
              "    </tr>\n",
              "    <tr>\n",
              "      <th>5</th>\n",
              "      <td>6</td>\n",
              "      <td>male</td>\n",
              "      <td>5'5\"</td>\n",
              "      <td>Hindu</td>\n",
              "      <td>Valmiki</td>\n",
              "      <td>Hindi</td>\n",
              "      <td>Sportsman</td>\n",
              "      <td>Delhi</td>\n",
              "      <td>India</td>\n",
              "      <td>29.0</td>\n",
              "    </tr>\n",
              "    <tr>\n",
              "      <th>6</th>\n",
              "      <td>7</td>\n",
              "      <td>female</td>\n",
              "      <td>5'2\"</td>\n",
              "      <td>Hindu</td>\n",
              "      <td>Rajput - Lodhi</td>\n",
              "      <td>Hindi</td>\n",
              "      <td>Banking Professional</td>\n",
              "      <td>Jodhpur</td>\n",
              "      <td>India</td>\n",
              "      <td>28.0</td>\n",
              "    </tr>\n",
              "    <tr>\n",
              "      <th>7</th>\n",
              "      <td>8</td>\n",
              "      <td>male</td>\n",
              "      <td>5'5\"</td>\n",
              "      <td>Hindu</td>\n",
              "      <td>Bhatia</td>\n",
              "      <td>Punjabi</td>\n",
              "      <td>Entrepreneurs / Business</td>\n",
              "      <td>Faridabad</td>\n",
              "      <td>India</td>\n",
              "      <td>30.0</td>\n",
              "    </tr>\n",
              "    <tr>\n",
              "      <th>8</th>\n",
              "      <td>9</td>\n",
              "      <td>female</td>\n",
              "      <td>5'5\"</td>\n",
              "      <td>Jain</td>\n",
              "      <td>Shwetamber</td>\n",
              "      <td>Gujarati</td>\n",
              "      <td>Software Professional</td>\n",
              "      <td>Vadodara</td>\n",
              "      <td>India</td>\n",
              "      <td>35.0</td>\n",
              "    </tr>\n",
              "    <tr>\n",
              "      <th>9</th>\n",
              "      <td>10</td>\n",
              "      <td>female</td>\n",
              "      <td>5'1\"</td>\n",
              "      <td>Hindu</td>\n",
              "      <td>Billava</td>\n",
              "      <td>Tulu</td>\n",
              "      <td>HR Professional</td>\n",
              "      <td>Bengaluru / Bangalore</td>\n",
              "      <td>India</td>\n",
              "      <td>32.0</td>\n",
              "    </tr>\n",
              "    <tr>\n",
              "      <th>11</th>\n",
              "      <td>12</td>\n",
              "      <td>male</td>\n",
              "      <td>5'9\"</td>\n",
              "      <td>Hindu</td>\n",
              "      <td>Brahmin</td>\n",
              "      <td>Bengali</td>\n",
              "      <td>Finance Professional</td>\n",
              "      <td>Suri</td>\n",
              "      <td>India</td>\n",
              "      <td>32.0</td>\n",
              "    </tr>\n",
              "  </tbody>\n",
              "</table>\n",
              "</div>\n",
              "      <button class=\"colab-df-convert\" onclick=\"convertToInteractive('df-40e936ea-c7fe-46d9-93c8-e8517f2341d2')\"\n",
              "              title=\"Convert this dataframe to an interactive table.\"\n",
              "              style=\"display:none;\">\n",
              "        \n",
              "  <svg xmlns=\"http://www.w3.org/2000/svg\" height=\"24px\"viewBox=\"0 0 24 24\"\n",
              "       width=\"24px\">\n",
              "    <path d=\"M0 0h24v24H0V0z\" fill=\"none\"/>\n",
              "    <path d=\"M18.56 5.44l.94 2.06.94-2.06 2.06-.94-2.06-.94-.94-2.06-.94 2.06-2.06.94zm-11 1L8.5 8.5l.94-2.06 2.06-.94-2.06-.94L8.5 2.5l-.94 2.06-2.06.94zm10 10l.94 2.06.94-2.06 2.06-.94-2.06-.94-.94-2.06-.94 2.06-2.06.94z\"/><path d=\"M17.41 7.96l-1.37-1.37c-.4-.4-.92-.59-1.43-.59-.52 0-1.04.2-1.43.59L10.3 9.45l-7.72 7.72c-.78.78-.78 2.05 0 2.83L4 21.41c.39.39.9.59 1.41.59.51 0 1.02-.2 1.41-.59l7.78-7.78 2.81-2.81c.8-.78.8-2.07 0-2.86zM5.41 20L4 18.59l7.72-7.72 1.47 1.35L5.41 20z\"/>\n",
              "  </svg>\n",
              "      </button>\n",
              "      \n",
              "  <style>\n",
              "    .colab-df-container {\n",
              "      display:flex;\n",
              "      flex-wrap:wrap;\n",
              "      gap: 12px;\n",
              "    }\n",
              "\n",
              "    .colab-df-convert {\n",
              "      background-color: #E8F0FE;\n",
              "      border: none;\n",
              "      border-radius: 50%;\n",
              "      cursor: pointer;\n",
              "      display: none;\n",
              "      fill: #1967D2;\n",
              "      height: 32px;\n",
              "      padding: 0 0 0 0;\n",
              "      width: 32px;\n",
              "    }\n",
              "\n",
              "    .colab-df-convert:hover {\n",
              "      background-color: #E2EBFA;\n",
              "      box-shadow: 0px 1px 2px rgba(60, 64, 67, 0.3), 0px 1px 3px 1px rgba(60, 64, 67, 0.15);\n",
              "      fill: #174EA6;\n",
              "    }\n",
              "\n",
              "    [theme=dark] .colab-df-convert {\n",
              "      background-color: #3B4455;\n",
              "      fill: #D2E3FC;\n",
              "    }\n",
              "\n",
              "    [theme=dark] .colab-df-convert:hover {\n",
              "      background-color: #434B5C;\n",
              "      box-shadow: 0px 1px 3px 1px rgba(0, 0, 0, 0.15);\n",
              "      filter: drop-shadow(0px 1px 2px rgba(0, 0, 0, 0.3));\n",
              "      fill: #FFFFFF;\n",
              "    }\n",
              "  </style>\n",
              "\n",
              "      <script>\n",
              "        const buttonEl =\n",
              "          document.querySelector('#df-40e936ea-c7fe-46d9-93c8-e8517f2341d2 button.colab-df-convert');\n",
              "        buttonEl.style.display =\n",
              "          google.colab.kernel.accessAllowed ? 'block' : 'none';\n",
              "\n",
              "        async function convertToInteractive(key) {\n",
              "          const element = document.querySelector('#df-40e936ea-c7fe-46d9-93c8-e8517f2341d2');\n",
              "          const dataTable =\n",
              "            await google.colab.kernel.invokeFunction('convertToInteractive',\n",
              "                                                     [key], {});\n",
              "          if (!dataTable) return;\n",
              "\n",
              "          const docLinkHtml = 'Like what you see? Visit the ' +\n",
              "            '<a target=\"_blank\" href=https://colab.research.google.com/notebooks/data_table.ipynb>data table notebook</a>'\n",
              "            + ' to learn more about interactive tables.';\n",
              "          element.innerHTML = '';\n",
              "          dataTable['output_type'] = 'display_data';\n",
              "          await google.colab.output.renderOutput(dataTable, element);\n",
              "          const docLink = document.createElement('div');\n",
              "          docLink.innerHTML = docLinkHtml;\n",
              "          element.appendChild(docLink);\n",
              "        }\n",
              "      </script>\n",
              "    </div>\n",
              "  </div>\n",
              "  "
            ]
          },
          "metadata": {},
          "execution_count": 10
        }
      ]
    },
    {
      "cell_type": "code",
      "source": [
        "x=df.iloc[:,1:-1]\n",
        "y=df.iloc[:,-1]"
      ],
      "metadata": {
        "id": "6F3rqSIZmVUk"
      },
      "execution_count": 14,
      "outputs": []
    },
    {
      "cell_type": "code",
      "source": [
        "from sklearn.preprocessing import LabelEncoder\n",
        "enc = LabelEncoder()\n",
        "x.loc[:,['gender','religion','caste','mother_tongue','country']]= \\\n",
        "x.loc[:,['gender','religion','caste','mother_tongue','country']].apply(enc.fit_transform)"
      ],
      "metadata": {
        "id": "ZjB9PsTrmpMR"
      },
      "execution_count": 17,
      "outputs": []
    },
    {
      "cell_type": "code",
      "source": [
        "int(x.loc[1,'height'].split('\\'')[0])*30.48"
      ],
      "metadata": {
        "colab": {
          "base_uri": "https://localhost:8080/"
        },
        "id": "Y_ZUOfyamuQV",
        "outputId": "85a10ed5-7ba9-4283-d1c4-ed90c6502c2b"
      },
      "execution_count": 21,
      "outputs": [
        {
          "output_type": "execute_result",
          "data": {
            "text/plain": [
              "152.4"
            ]
          },
          "metadata": {},
          "execution_count": 21
        }
      ]
    },
    {
      "cell_type": "code",
      "source": [
        "int(x.loc[1,'height'].split('\\'')[1].replace('\\\"',''))*2.54"
      ],
      "metadata": {
        "colab": {
          "base_uri": "https://localhost:8080/"
        },
        "id": "SfM7gQ-doAwV",
        "outputId": "019d42dd-71ab-42fe-a8c0-162eab01547d"
      },
      "execution_count": 24,
      "outputs": [
        {
          "output_type": "execute_result",
          "data": {
            "text/plain": [
              "17.78"
            ]
          },
          "metadata": {},
          "execution_count": 24
        }
      ]
    },
    {
      "cell_type": "code",
      "source": [
        "int(x.loc[1,'height'].split('\\'')[0])*30.48+int(x.loc[1,'height'].split('\\'')[1].replace('\\\"',''))*2.54"
      ],
      "metadata": {
        "colab": {
          "base_uri": "https://localhost:8080/"
        },
        "id": "R-F8G8HMo7Wc",
        "outputId": "7eebbd09-59c5-4a26-89cf-98631adbca84"
      },
      "execution_count": 25,
      "outputs": [
        {
          "output_type": "execute_result",
          "data": {
            "text/plain": [
              "170.18"
            ]
          },
          "metadata": {},
          "execution_count": 25
        }
      ]
    },
    {
      "cell_type": "code",
      "source": [
        "def htcm(h):\n",
        "  return int(x.loc[1,'height'].split('\\'')[0])*30.48+int(x.loc[1,'height'].split('\\'')[1].replace('\\\"',''))*2.54"
      ],
      "metadata": {
        "id": "lFMDNMfXog_i"
      },
      "execution_count": 27,
      "outputs": []
    },
    {
      "cell_type": "code",
      "source": [
        "x['height_cms']=x.height.apply(htcm)"
      ],
      "metadata": {
        "id": "noYbAnSMpE3Q"
      },
      "execution_count": 28,
      "outputs": []
    },
    {
      "cell_type": "code",
      "source": [
        "x.head()"
      ],
      "metadata": {
        "colab": {
          "base_uri": "https://localhost:8080/",
          "height": 206
        },
        "id": "Y_CFdq9ppb9w",
        "outputId": "3baaa399-389d-46c4-e975-8c9d7e47036c"
      },
      "execution_count": 30,
      "outputs": [
        {
          "output_type": "execute_result",
          "data": {
            "text/plain": [
              "  gender height religion caste mother_tongue  \\\n",
              "1      1   5'7\"        2    34             6   \n",
              "2      1   5'7\"        1    14             8   \n",
              "3      0   5'0\"        1    36             8   \n",
              "4      1   5'5\"        0    13            13   \n",
              "5      1   5'5\"        1    38             8   \n",
              "\n",
              "                         profession         location country  height_cms  \n",
              "1  Doctor / Healthcare Professional      Fairfax- VA      19      170.18  \n",
              "2         Entrepreneurs / Business         Begusarai       5      170.18  \n",
              "3                         Architect           Mumbai       5      170.18  \n",
              "4    Sales Professional / Marketing  Sulthan Bathery       5      170.18  \n",
              "5                         Sportsman            Delhi       5      170.18  "
            ],
            "text/html": [
              "\n",
              "  <div id=\"df-a0fe9f2d-aa06-4847-a118-be6f661af8b6\">\n",
              "    <div class=\"colab-df-container\">\n",
              "      <div>\n",
              "<style scoped>\n",
              "    .dataframe tbody tr th:only-of-type {\n",
              "        vertical-align: middle;\n",
              "    }\n",
              "\n",
              "    .dataframe tbody tr th {\n",
              "        vertical-align: top;\n",
              "    }\n",
              "\n",
              "    .dataframe thead th {\n",
              "        text-align: right;\n",
              "    }\n",
              "</style>\n",
              "<table border=\"1\" class=\"dataframe\">\n",
              "  <thead>\n",
              "    <tr style=\"text-align: right;\">\n",
              "      <th></th>\n",
              "      <th>gender</th>\n",
              "      <th>height</th>\n",
              "      <th>religion</th>\n",
              "      <th>caste</th>\n",
              "      <th>mother_tongue</th>\n",
              "      <th>profession</th>\n",
              "      <th>location</th>\n",
              "      <th>country</th>\n",
              "      <th>height_cms</th>\n",
              "    </tr>\n",
              "  </thead>\n",
              "  <tbody>\n",
              "    <tr>\n",
              "      <th>1</th>\n",
              "      <td>1</td>\n",
              "      <td>5'7\"</td>\n",
              "      <td>2</td>\n",
              "      <td>34</td>\n",
              "      <td>6</td>\n",
              "      <td>Doctor / Healthcare Professional</td>\n",
              "      <td>Fairfax- VA</td>\n",
              "      <td>19</td>\n",
              "      <td>170.18</td>\n",
              "    </tr>\n",
              "    <tr>\n",
              "      <th>2</th>\n",
              "      <td>1</td>\n",
              "      <td>5'7\"</td>\n",
              "      <td>1</td>\n",
              "      <td>14</td>\n",
              "      <td>8</td>\n",
              "      <td>Entrepreneurs / Business</td>\n",
              "      <td>Begusarai</td>\n",
              "      <td>5</td>\n",
              "      <td>170.18</td>\n",
              "    </tr>\n",
              "    <tr>\n",
              "      <th>3</th>\n",
              "      <td>0</td>\n",
              "      <td>5'0\"</td>\n",
              "      <td>1</td>\n",
              "      <td>36</td>\n",
              "      <td>8</td>\n",
              "      <td>Architect</td>\n",
              "      <td>Mumbai</td>\n",
              "      <td>5</td>\n",
              "      <td>170.18</td>\n",
              "    </tr>\n",
              "    <tr>\n",
              "      <th>4</th>\n",
              "      <td>1</td>\n",
              "      <td>5'5\"</td>\n",
              "      <td>0</td>\n",
              "      <td>13</td>\n",
              "      <td>13</td>\n",
              "      <td>Sales Professional / Marketing</td>\n",
              "      <td>Sulthan Bathery</td>\n",
              "      <td>5</td>\n",
              "      <td>170.18</td>\n",
              "    </tr>\n",
              "    <tr>\n",
              "      <th>5</th>\n",
              "      <td>1</td>\n",
              "      <td>5'5\"</td>\n",
              "      <td>1</td>\n",
              "      <td>38</td>\n",
              "      <td>8</td>\n",
              "      <td>Sportsman</td>\n",
              "      <td>Delhi</td>\n",
              "      <td>5</td>\n",
              "      <td>170.18</td>\n",
              "    </tr>\n",
              "  </tbody>\n",
              "</table>\n",
              "</div>\n",
              "      <button class=\"colab-df-convert\" onclick=\"convertToInteractive('df-a0fe9f2d-aa06-4847-a118-be6f661af8b6')\"\n",
              "              title=\"Convert this dataframe to an interactive table.\"\n",
              "              style=\"display:none;\">\n",
              "        \n",
              "  <svg xmlns=\"http://www.w3.org/2000/svg\" height=\"24px\"viewBox=\"0 0 24 24\"\n",
              "       width=\"24px\">\n",
              "    <path d=\"M0 0h24v24H0V0z\" fill=\"none\"/>\n",
              "    <path d=\"M18.56 5.44l.94 2.06.94-2.06 2.06-.94-2.06-.94-.94-2.06-.94 2.06-2.06.94zm-11 1L8.5 8.5l.94-2.06 2.06-.94-2.06-.94L8.5 2.5l-.94 2.06-2.06.94zm10 10l.94 2.06.94-2.06 2.06-.94-2.06-.94-.94-2.06-.94 2.06-2.06.94z\"/><path d=\"M17.41 7.96l-1.37-1.37c-.4-.4-.92-.59-1.43-.59-.52 0-1.04.2-1.43.59L10.3 9.45l-7.72 7.72c-.78.78-.78 2.05 0 2.83L4 21.41c.39.39.9.59 1.41.59.51 0 1.02-.2 1.41-.59l7.78-7.78 2.81-2.81c.8-.78.8-2.07 0-2.86zM5.41 20L4 18.59l7.72-7.72 1.47 1.35L5.41 20z\"/>\n",
              "  </svg>\n",
              "      </button>\n",
              "      \n",
              "  <style>\n",
              "    .colab-df-container {\n",
              "      display:flex;\n",
              "      flex-wrap:wrap;\n",
              "      gap: 12px;\n",
              "    }\n",
              "\n",
              "    .colab-df-convert {\n",
              "      background-color: #E8F0FE;\n",
              "      border: none;\n",
              "      border-radius: 50%;\n",
              "      cursor: pointer;\n",
              "      display: none;\n",
              "      fill: #1967D2;\n",
              "      height: 32px;\n",
              "      padding: 0 0 0 0;\n",
              "      width: 32px;\n",
              "    }\n",
              "\n",
              "    .colab-df-convert:hover {\n",
              "      background-color: #E2EBFA;\n",
              "      box-shadow: 0px 1px 2px rgba(60, 64, 67, 0.3), 0px 1px 3px 1px rgba(60, 64, 67, 0.15);\n",
              "      fill: #174EA6;\n",
              "    }\n",
              "\n",
              "    [theme=dark] .colab-df-convert {\n",
              "      background-color: #3B4455;\n",
              "      fill: #D2E3FC;\n",
              "    }\n",
              "\n",
              "    [theme=dark] .colab-df-convert:hover {\n",
              "      background-color: #434B5C;\n",
              "      box-shadow: 0px 1px 3px 1px rgba(0, 0, 0, 0.15);\n",
              "      filter: drop-shadow(0px 1px 2px rgba(0, 0, 0, 0.3));\n",
              "      fill: #FFFFFF;\n",
              "    }\n",
              "  </style>\n",
              "\n",
              "      <script>\n",
              "        const buttonEl =\n",
              "          document.querySelector('#df-a0fe9f2d-aa06-4847-a118-be6f661af8b6 button.colab-df-convert');\n",
              "        buttonEl.style.display =\n",
              "          google.colab.kernel.accessAllowed ? 'block' : 'none';\n",
              "\n",
              "        async function convertToInteractive(key) {\n",
              "          const element = document.querySelector('#df-a0fe9f2d-aa06-4847-a118-be6f661af8b6');\n",
              "          const dataTable =\n",
              "            await google.colab.kernel.invokeFunction('convertToInteractive',\n",
              "                                                     [key], {});\n",
              "          if (!dataTable) return;\n",
              "\n",
              "          const docLinkHtml = 'Like what you see? Visit the ' +\n",
              "            '<a target=\"_blank\" href=https://colab.research.google.com/notebooks/data_table.ipynb>data table notebook</a>'\n",
              "            + ' to learn more about interactive tables.';\n",
              "          element.innerHTML = '';\n",
              "          dataTable['output_type'] = 'display_data';\n",
              "          await google.colab.output.renderOutput(dataTable, element);\n",
              "          const docLink = document.createElement('div');\n",
              "          docLink.innerHTML = docLinkHtml;\n",
              "          element.appendChild(docLink);\n",
              "        }\n",
              "      </script>\n",
              "    </div>\n",
              "  </div>\n",
              "  "
            ]
          },
          "metadata": {},
          "execution_count": 30
        }
      ]
    },
    {
      "cell_type": "code",
      "source": [
        "x.drop('height',inplace=True,axis=1)"
      ],
      "metadata": {
        "id": "CJWhQ4rypehQ"
      },
      "execution_count": 32,
      "outputs": []
    },
    {
      "cell_type": "code",
      "source": [
        "x.drop(['profession','location'],inplace=True,axis=1)"
      ],
      "metadata": {
        "id": "kL1fGdCKq865"
      },
      "execution_count": 35,
      "outputs": []
    },
    {
      "cell_type": "code",
      "source": [
        "from sklearn.model_selection import train_test_split\n",
        "xtrain, xtest, ytrain, ytest = train_test_split(x,y,random_state=1, test_size=0.2)"
      ],
      "metadata": {
        "id": "AYDIcjnjpk4o"
      },
      "execution_count": 36,
      "outputs": []
    },
    {
      "cell_type": "code",
      "source": [
        "from sklearn.ensemble import RandomForestRegressor\n",
        "model=RandomForestRegressor(n_estimators=80,max_depth=11)\n",
        "model.fit(xtrain,ytrain)\n",
        "y_pred=model.predict(xtest)"
      ],
      "metadata": {
        "id": "QGHEjMfOqNQ3"
      },
      "execution_count": 37,
      "outputs": []
    },
    {
      "cell_type": "code",
      "source": [],
      "metadata": {
        "id": "p6K-KLEIqsXt"
      },
      "execution_count": null,
      "outputs": []
    },
    {
      "cell_type": "markdown",
      "source": [
        "# Evaluation"
      ],
      "metadata": {
        "id": "s9Cfq2rxrJZd"
      }
    },
    {
      "cell_type": "code",
      "source": [
        "from sklearn.metrics import mean_absolute_error, r2_score\n",
        "print(\"MAE : \", mean_absolute_error(ytest,y_pred))\n",
        "r2_score(ytest,y_pred)"
      ],
      "metadata": {
        "colab": {
          "base_uri": "https://localhost:8080/"
        },
        "id": "9Zzs1DHkrI4_",
        "outputId": "7bed4552-e6dc-4b97-b9e0-83da237d6e63"
      },
      "execution_count": 39,
      "outputs": [
        {
          "output_type": "stream",
          "name": "stdout",
          "text": [
            "MAE :  1.034248084138878\n"
          ]
        },
        {
          "output_type": "execute_result",
          "data": {
            "text/plain": [
              "0.6980579704969794"
            ]
          },
          "metadata": {},
          "execution_count": 39
        }
      ]
    },
    {
      "cell_type": "markdown",
      "source": [
        "# Export Model"
      ],
      "metadata": {
        "id": "olqClFlnracA"
      }
    },
    {
      "cell_type": "code",
      "source": [
        "import pickle\n",
        "# Saving model\n",
        "pickle.dump(model, open('model.pkl','wb'))\n",
        "# model=pickle.load(open('model.pkl','rb'))\n",
        "# print(y_predict)"
      ],
      "metadata": {
        "id": "K8El2RDFrOKX"
      },
      "execution_count": 40,
      "outputs": []
    },
    {
      "cell_type": "code",
      "source": [],
      "metadata": {
        "id": "V_gODvUJrdNq"
      },
      "execution_count": null,
      "outputs": []
    }
  ]
}